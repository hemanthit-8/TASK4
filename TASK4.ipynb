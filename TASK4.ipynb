{
  "cells": [
    {
      "cell_type": "code",
      "execution_count": null,
      "metadata": {
        "colab": {
          "base_uri": "https://localhost:8080/"
        },
        "id": "wvkjXU5jnr4l",
        "outputId": "d92cc1a4-fcc2-4a45-e0bb-adb88cf6b4b4"
      },
      "outputs": [],
      "source": [
        "import random\n",
        "\n",
        "def get_computer_choice():\n",
        "    return random.choice(['rock', 'paper', 'scissors'])\n",
        "\n",
        "def determine_winner(user_choice, computer_choice):\n",
        "    if user_choice == computer_choice:\n",
        "        return \"tie\"\n",
        "    elif (user_choice == 'rock' and computer_choice == 'scissors') or \\\n",
        "         (user_choice == 'scissors' and computer_choice == 'paper') or \\\n",
        "         (user_choice == 'paper' and computer_choice == 'rock'):\n",
        "        return \"user\"\n",
        "    else:\n",
        "        return \"computer\"\n",
        "\n",
        "def display_result(user_choice, computer_choice, winner):\n",
        "    print(f\"\\nYou chose: {user_choice}\")\n",
        "    print(f\"Computer chose: {computer_choice}\")\n",
        "    if winner == \"tie\":\n",
        "        print(\"It's a tie!\")\n",
        "    elif winner == \"user\":\n",
        "        print(\"You win!\")\n",
        "    else:\n",
        "        print(\"You lose!\")\n",
        "\n",
        "def play_game():\n",
        "    user_score = 0\n",
        "    computer_score = 0\n",
        "\n",
        "    while True:\n",
        "        print(\"\\n--- Rock, Paper, Scissors Game ---\")\n",
        "        user_choice = input(\"Enter your choice (rock, paper, scissors): \").lower()\n",
        "\n",
        "        if user_choice not in ['rock', 'paper', 'scissors']:\n",
        "            print(\"Invalid choice! Please enter rock, paper, or scissors.\")\n",
        "            continue\n",
        "\n",
        "        computer_choice = get_computer_choice()\n",
        "        winner = determine_winner(user_choice, computer_choice)\n",
        "\n",
        "        if winner == \"user\":\n",
        "            user_score += 1\n",
        "        elif winner == \"computer\":\n",
        "            computer_score += 1\n",
        "\n",
        "        display_result(user_choice, computer_choice, winner)\n",
        "\n",
        "        print(f\"\\nScores: You - {user_score}, Computer - {computer_score}\")\n",
        "\n",
        "        play_again = input(\"Do you want to play again? (yes/no): \").lower()\n",
        "        if play_again != 'yes':\n",
        "            break\n",
        "\n",
        "    print(\"\\nThanks for playing!\")\n",
        "\n",
        "# Run the Rock, Paper, Scissors game\n",
        "if __name__ == \"__main__\":\n",
        "    play_game()\n"
      ]
    }
  ],
  "metadata": {
    "colab": {
      "provenance": []
    },
    "kernelspec": {
      "display_name": "Python 3",
      "name": "python3"
    },
    "language_info": {
      "name": "python"
    }
  },
  "nbformat": 4,
  "nbformat_minor": 0
}
